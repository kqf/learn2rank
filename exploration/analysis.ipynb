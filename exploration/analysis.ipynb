{
 "cells": [
  {
   "cell_type": "code",
   "execution_count": 1,
   "metadata": {},
   "outputs": [],
   "source": [
    "%load_ext autoreload\n",
    "%autoreload 2\n",
    "\n",
    "import warnings\n",
    "warnings.filterwarnings('ignore')"
   ]
  },
  {
   "cell_type": "code",
   "execution_count": 2,
   "metadata": {},
   "outputs": [],
   "source": [
    "import numpy as np\n",
    "from scipy import stats\n",
    "from model.model import build_pairwise_model, build_pointwise_model\n",
    "from model.data import read_dataset\n",
    "from model.metrics import mean_ndcg_score, ndcg_scores\n",
    "from model.metrics import *\n",
    "\n",
    "\n",
    "def rank(df):\n",
    "    df = df.sort_values([\"listing_id\", \"score\"], ascending=False)\n",
    "    return df\n"
   ]
  },
  {
   "cell_type": "code",
   "execution_count": 3,
   "metadata": {},
   "outputs": [
    {
     "name": "stdout",
     "output_type": "stream",
     "text": [
      "0.4135230767638214\n",
      "0.4107749368671361\n"
     ]
    }
   ],
   "source": [
    "# Read the dataset and check the if there are any difference between train and validation set\n",
    "train, validation = read_dataset(\"../data/dataset_v2.csv\")\n",
    "print(mean_ndcg_score(train))\n",
    "print(mean_ndcg_score(validation))"
   ]
  },
  {
   "cell_type": "markdown",
   "metadata": {},
   "source": [
    "Now we have baseline scores for the problem, let's test the pointwise ranking and lambdarank solutions"
   ]
  },
  {
   "cell_type": "markdown",
   "metadata": {},
   "source": [
    "### Pointwise approach"
   ]
  },
  {
   "cell_type": "code",
   "execution_count": 4,
   "metadata": {},
   "outputs": [
    {
     "name": "stdout",
     "output_type": "stream",
     "text": [
      "The total shape (4152229, 49)\n",
      "The total shape (4152229, 49)\n",
      "The total shape (732575, 49)\n",
      "Train mean NDCG score 0.4345855038086928\n",
      "validation mean NDCG score 0.40518779880992895\n"
     ]
    }
   ],
   "source": [
    "clf = build_pointwise_model().fit(train, train[\"clicked\"])\n",
    "train[\"score\"] = clf.predict_proba(train)[:, 1]\n",
    "validation[\"score\"] = clf.predict_proba(validation)[:, 1]\n",
    "\n",
    "\n",
    "score = mean_ndcg_score(rank(train))\n",
    "print(f\"Train mean NDCG score {score}\")\n",
    "\n",
    "score = mean_ndcg_score(rank(validation))\n",
    "print(f\"validation mean NDCG score {score}\")"
   ]
  },
  {
   "cell_type": "markdown",
   "metadata": {},
   "source": [
    "As we can see, the model overfits somehow, and mean nDCG value seems to be smaller if compared to the validation set"
   ]
  },
  {
   "cell_type": "markdown",
   "metadata": {},
   "source": [
    "### Lambdarank approach\n"
   ]
  },
  {
   "cell_type": "code",
   "execution_count": 5,
   "metadata": {},
   "outputs": [
    {
     "name": "stdout",
     "output_type": "stream",
     "text": [
      "The total shape (4152229, 49)\n",
      "The total shape (4152229, 49)\n",
      "The total shape (732575, 49)\n",
      "Train mean NDCG score 0.43506777442703415\n",
      "validation mean NDCG score 0.42202427610857207\n"
     ]
    }
   ],
   "source": [
    "groups = train.groupby(\"listing_id\")[\"n0\"].count().values.reshape(-1)\n",
    "clf = build_pairwise_model()\n",
    "clf.fit(train, train[\"clicked\"], lgbmranker__group=groups)\n",
    "\n",
    "train[\"score\"] = clf.predict(train)\n",
    "validation[\"score\"] = clf.predict(validation)\n",
    "\n",
    "score = mean_ndcg_score(rank(train))\n",
    "print(f\"Train mean NDCG score {score}\")\n",
    "\n",
    "score = mean_ndcg_score(rank(validation))\n",
    "print(f\"validation mean NDCG score {score}\")"
   ]
  },
  {
   "cell_type": "markdown",
   "metadata": {},
   "source": [
    "Now let's perform a two-sided t-test for $H_0$ hypothesis of identical mean nDCG values."
   ]
  },
  {
   "cell_type": "code",
   "execution_count": 6,
   "metadata": {},
   "outputs": [
    {
     "data": {
      "text/plain": [
       "Ttest_indResult(statistic=-3.719166735921395, pvalue=0.00020024515192454114)"
      ]
     },
     "execution_count": 6,
     "metadata": {},
     "output_type": "execute_result"
    }
   ],
   "source": [
    "model_scores = ndcg_scores(rank(validation))\n",
    "original_scores = ndcg_scores(validation)\n",
    "\n",
    "stats.ttest_ind(original_scores, model_scores, equal_var=False)"
   ]
  },
  {
   "cell_type": "markdown",
   "metadata": {},
   "source": [
    "The p-value is small enough (less than 0.05) to reject the $H_0$. In other words the avarage new model gives larger mean nDCG and it's statistically significant.\n",
    "\n",
    "How often the new model outperforms the old one?\n",
    "Let `positives`-statistics is the fraction of documents where the original ranking model gives higher nDCG than the new model. If the original model has better performance, then this statistics `positives > 0.5` and `positives < 0.5` otherwise. Let's test the $H_0$ of `positives = 0.5` against the $H_1$ of `positives < 0.5` with binomial test:"
   ]
  },
  {
   "cell_type": "code",
   "execution_count": 7,
   "metadata": {},
   "outputs": [
    {
     "name": "stdout",
     "output_type": "stream",
     "text": [
      "Number of positive answers 6064 out of 14998, p-value = 2.0825562113768356e-122\n"
     ]
    }
   ],
   "source": [
    "positives = np.sum(original_scores > model_scores)\n",
    "pvalue = stats.binom_test(positives, len(model_scores), alternative=\"less\")\n",
    "print(f\"Number of positive answers {positives} out of {len(model_scores)}, p-value = {pvalue}\")"
   ]
  },
  {
   "cell_type": "markdown",
   "metadata": {},
   "source": [
    "We can reject the $H_0$ at 0.05 significance level, hence the new model doesn't not perform worse than the original one"
   ]
  },
  {
   "cell_type": "code",
   "execution_count": null,
   "metadata": {},
   "outputs": [],
   "source": []
  }
 ],
 "metadata": {
  "kernelspec": {
   "display_name": "Python 3",
   "language": "python",
   "name": "python3"
  },
  "language_info": {
   "codemirror_mode": {
    "name": "ipython",
    "version": 3
   },
   "file_extension": ".py",
   "mimetype": "text/x-python",
   "name": "python",
   "nbconvert_exporter": "python",
   "pygments_lexer": "ipython3",
   "version": "3.6.3"
  }
 },
 "nbformat": 4,
 "nbformat_minor": 2
}
